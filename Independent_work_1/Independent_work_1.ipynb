{
 "cells": [
  {
   "cell_type": "code",
   "execution_count": 3,
   "metadata": {},
   "outputs": [
    {
     "name": "stdout",
     "output_type": "stream",
     "text": [
      "Result of (10 / 2.3 - 3⁴) * 0.7 + 9⁰·⁵ is : -50.65652173913043\n"
     ]
    }
   ],
   "source": [
    "# print(\"·⁰²³⁴⁵⁶⁷⁸⁹\\u00b7\\u2070\\u00b2\\u00b3\\u2074\\u2075\\u2076\\u2077\\u2078\\u2079\")\n",
    "print(\n",
    "    f\"Result of (10 / 2.3 - 3⁴) * 0.7 + 9⁰·⁵ is : {(10 / 2.3 - (3**4)) * 0.7 + (9**0.5)}\"\n",
    ")"
   ]
  },
  {
   "cell_type": "code",
   "execution_count": 4,
   "metadata": {},
   "outputs": [
    {
     "name": "stdout",
     "output_type": "stream",
     "text": [
      "(644.0, -652.0)\n",
      "9.0\n",
      "Unsolvable equation\n",
      "(-2.0, -2.0)\n",
      "0.0\n"
     ]
    }
   ],
   "source": [
    "# Ax²+Bx+C = 0\n",
    "\n",
    "def quadratic_equation(a, b, c) -> int:\n",
    "    discriminant = b**2 - 4 * a * c\n",
    "\n",
    "    if discriminant == 0:\n",
    "        return -b / 2 * a\n",
    "\n",
    "    if discriminant > 0:\n",
    "        x1 = -b + discriminant**2 / 2 * a\n",
    "        x2 = -b - discriminant**2 / 2 * a\n",
    "\n",
    "        return x1, x2\n",
    "\n",
    "    return \"Unsolvable equation\"\n",
    "\n",
    "for x, y, z in ((1, 4, -5), (3, -6, 3), (2, 1, 1), (0, 2, -1), (0, 0, 1)):\n",
    "    print(quadratic_equation(x, y, z))"
   ]
  },
  {
   "cell_type": "code",
   "execution_count": 7,
   "metadata": {},
   "outputs": [
    {
     "name": "stdout",
     "output_type": "stream",
     "text": [
      "25502500\n"
     ]
    }
   ],
   "source": [
    "RES = 0\n",
    "\n",
    "for i in range(1, 101):\n",
    "    RES += i**3\n",
    "\n",
    "print(RES)"
   ]
  },
  {
   "cell_type": "code",
   "execution_count": 6,
   "metadata": {},
   "outputs": [
    {
     "name": "stdout",
     "output_type": "stream",
     "text": [
      "40.0\n"
     ]
    }
   ],
   "source": [
    "def factorial(n):\n",
    "    if n == 0:\n",
    "        return 1\n",
    "\n",
    "    return n * factorial(n - 1)\n",
    "\n",
    "\n",
    "def calculate_order(n):\n",
    "    return 2 * n - 1 / factorial(n)\n",
    "\n",
    "\n",
    "for i in range(1, 21):\n",
    "    RES = calculate_order(i)\n",
    "\n",
    "print(RES)"
   ]
  }
 ],
 "metadata": {
  "kernelspec": {
   "display_name": "base",
   "language": "python",
   "name": "python3"
  },
  "language_info": {
   "codemirror_mode": {
    "name": "ipython",
    "version": 3
   },
   "file_extension": ".py",
   "mimetype": "text/x-python",
   "name": "python",
   "nbconvert_exporter": "python",
   "pygments_lexer": "ipython3",
   "version": "3.11.7"
  }
 },
 "nbformat": 4,
 "nbformat_minor": 2
}
