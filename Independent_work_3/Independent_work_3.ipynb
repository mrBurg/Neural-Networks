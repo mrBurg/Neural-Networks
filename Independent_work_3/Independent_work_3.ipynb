{
 "cells": [
  {
   "cell_type": "code",
   "execution_count": 1,
   "metadata": {},
   "outputs": [
    {
     "name": "stdout",
     "output_type": "stream",
     "text": [
      "Сума на депозиті в [\u001b[35m 2027 \u001b[0m] році при ставці в [\u001b[92m 5% \u001b[0m] складатиме [\u001b[92m 115.76 \u001b[0m] одиниць\n",
      "Сума на депозиті в [\u001b[35m 2027 \u001b[0m] році при ставці в [\u001b[92m 7% \u001b[0m] складатиме [\u001b[92m 122.50 \u001b[0m] одиниць\n"
     ]
    }
   ],
   "source": [
    "from datetime import datetime as Date\n",
    "\n",
    "def calculate_deposit(contribution, rate, year):\n",
    "    \"\"\"\n",
    "    contribution: Вклад\n",
    "    rate: % ставка\n",
    "    term: Кінцевий рік\n",
    "    \"\"\"\n",
    "\n",
    "    now = Date.now()\n",
    "    future_date = now.replace(year)\n",
    "    terms = max(future_date.year - now.year, 0)\n",
    "\n",
    "    return contribution * (1 + rate / 100) ** terms\n",
    "\n",
    "\n",
    "CONTRIBUTION = 100\n",
    "RATE = 5\n",
    "YEAR = 2027\n",
    "\n",
    "RES = calculate_deposit(CONTRIBUTION, RATE, YEAR)\n",
    "print(\n",
    "    f\"Сума на депозиті в [\\033[35m {YEAR} \\033[0m] році при ставці в [\\033[92m {RATE}% \\033[0m] складатиме [\\033[92m {RES:.2f} \\033[0m] одиниць\"\n",
    ")\n",
    "\n",
    "RATE = 7\n",
    "RES = calculate_deposit(CONTRIBUTION, RATE, YEAR)\n",
    "print(\n",
    "    f\"Сума на депозиті в [\\033[35m {YEAR} \\033[0m] році при ставці в [\\033[92m {RATE}% \\033[0m] складатиме [\\033[92m {RES:.2f} \\033[0m] одиниць\"\n",
    ")"
   ]
  },
  {
   "cell_type": "code",
   "execution_count": 2,
   "metadata": {},
   "outputs": [
    {
     "name": "stdout",
     "output_type": "stream",
     "text": [
      "Периметр кола \u001b[35mCircle 1\u001b[0m з радіусом [\u001b[92m 3.14m \u001b[0m] становить [\u001b[92m 19.74m \u001b[0m] та площа [\u001b[92m 31.01m² \u001b[0m]\n",
      "Периметр кола \u001b[35mCircle 2\u001b[0m з радіусом [\u001b[92m 36.46m \u001b[0m] становить [\u001b[92m 229.10m \u001b[0m] та площа [\u001b[92m 4176.71m² \u001b[0m]\n"
     ]
    }
   ],
   "source": [
    "from abc import abstractmethod\n",
    "import math\n",
    "import dataclasses\n",
    "\n",
    "@dataclasses.dataclass\n",
    "class Circle:\n",
    "    \"\"\"\n",
    "    :radius: Радіус кола\n",
    "    :name: Назва об’єкту (не обов’язковоий)\n",
    "    \"\"\"\n",
    "\n",
    "    def __init__(self, radius, name=\"Circle\") -> None:\n",
    "        self.__radius = radius\n",
    "        self.name = name\n",
    "\n",
    "    def get_area(self) -> float:\n",
    "        return math.pi * self.__radius**2\n",
    "\n",
    "    def get_perimeter(self) -> float:\n",
    "        return 2 * math.pi * self.__radius\n",
    "\n",
    "    def info(self):\n",
    "        print(self)\n",
    "\n",
    "    @abstractmethod\n",
    "    def calculate_expenses(self, expenses):\n",
    "        pass\n",
    "\n",
    "    def __str__(self):\n",
    "        return f\"Периметр кола \\033[35m{self.name}\\033[0m з радіусом [\\033[92m {self.__radius:.2f}m \\033[0m] становить [\\033[92m {self.get_perimeter():.2f}m \\033[0m] та площа [\\033[92m {self.get_area():.2f}m² \\033[0m]\"\n",
    "\n",
    "circle1 = Circle(math.pi, \"Circle 1\")\n",
    "circle2 = Circle(math.pi**math.pi, \"Circle 2\")\n",
    "\n",
    "circle1.info()\n",
    "circle2.info()"
   ]
  },
  {
   "cell_type": "code",
   "execution_count": 3,
   "metadata": {},
   "outputs": [
    {
     "name": "stdout",
     "output_type": "stream",
     "text": [
      "Витрата лаку на фігуру \u001b[35mLacquered Circle 1\u001b[0m площею в [\u001b[92m 31.01m² \u001b[0m] становить [\u001b[92m 4650.94г \u001b[0m] лаку.\n",
      "Витрата лаку на фігуру \u001b[35mLacquered Circle 1\u001b[0m площею в [\u001b[92m 4176.71m² \u001b[0m] становить [\u001b[92m 626506.97г \u001b[0m] лаку.\n",
      "Витрата аерозолі на фігуру \u001b[35mAerosol Circle 1\u001b[0m площею в [\u001b[92m 31.01m² \u001b[0m] становить [\u001b[92m 77.52 \u001b[0m] банки.\n",
      "Витрата аерозолі на фігуру \u001b[35mAerosol Circle 1\u001b[0m площею в [\u001b[92m 4176.71m² \u001b[0m] становить [\u001b[92m 10441.78 \u001b[0m] банки.\n"
     ]
    }
   ],
   "source": [
    "class Lacquered(Circle):\n",
    "    expenses = 0\n",
    "\n",
    "    def __init__(self, radius, name) -> None:\n",
    "        super().__init__(radius, name)\n",
    "\n",
    "    def calculate_expenses(self, expenses=150):  # 150г/1m²\n",
    "        self.expenses = super().get_area() * expenses\n",
    "\n",
    "        print(self)\n",
    "\n",
    "    def __str__(self):\n",
    "        return f\"Витрата лаку на фігуру \\033[35m{self.name}\\033[0m площею в [\\033[92m {super().get_area():.2f}m² \\033[0m] становить [\\033[92m {self.expenses:.2f}\\u0433 \\033[0m] лаку.\"\n",
    "\n",
    "\n",
    "class Aerosol(Circle):\n",
    "    expenses = 0\n",
    "\n",
    "    def __init__(self, radius, name) -> None:\n",
    "        super().__init__(radius, name)\n",
    "\n",
    "    def calculate_expenses(self, expenses=2.5):  # 1б/2.5m²\n",
    "        self.expenses = super().get_area() * expenses\n",
    "\n",
    "        print(self)\n",
    "\n",
    "    def __str__(self):\n",
    "        return f\"Витрата аерозолі на фігуру \\033[35m{self.name}\\033[0m площею в [\\033[92m {super().get_area():.2f}m² \\033[0m] становить [\\033[92m {self.expenses:.2f} \\033[0m] банки.\"\n",
    "\n",
    "\n",
    "figure_list = [\n",
    "    Lacquered(math.pi, \"Lacquered Circle 1\"),\n",
    "    Lacquered(math.pi**math.pi, \"Lacquered Circle 1\"),\n",
    "    Aerosol(math.pi, \"Aerosol Circle 1\"),\n",
    "    Aerosol(math.pi**math.pi, \"Aerosol Circle 1\"),\n",
    "]\n",
    "\n",
    "for i in figure_list:\n",
    "    i.calculate_expenses()"
   ]
  }
 ],
 "metadata": {
  "kernelspec": {
   "display_name": "base",
   "language": "python",
   "name": "python3"
  },
  "language_info": {
   "codemirror_mode": {
    "name": "ipython",
    "version": 3
   },
   "file_extension": ".py",
   "mimetype": "text/x-python",
   "name": "python",
   "nbconvert_exporter": "python",
   "pygments_lexer": "ipython3",
   "version": "3.12.3"
  }
 },
 "nbformat": 4,
 "nbformat_minor": 2
}
